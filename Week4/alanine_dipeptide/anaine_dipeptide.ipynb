{
 "cells": [
  {
   "cell_type": "markdown",
   "metadata": {},
   "source": [
    "## HW4: Simple Simulation of Alanine Dipeptide Tutorial\n",
    "##### Amber = Assisted Model Building and Energy Refinement"
   ]
  },
  {
   "cell_type": "markdown",
   "metadata": {},
   "source": [
    "#### https://ambermd.org/tutorials/basic/tutorial0/index.php"
   ]
  },
  {
   "cell_type": "markdown",
   "metadata": {},
   "source": [
    "$ srun -c4 -t2:00:00 --mem=4000 --pty /bin/bash "
   ]
  },
  {
   "cell_type": "markdown",
   "metadata": {},
   "source": [
    "$ module load amber/openmpi/intel/22.03"
   ]
  },
  {
   "cell_type": "markdown",
   "metadata": {},
   "source": [
    "#### Part 1: Prepare topology and coordinate files"
   ]
  },
  {
   "cell_type": "code",
   "execution_count": null,
   "metadata": {},
   "outputs": [],
   "source": [
    "# Start tLEaP\n",
    "# tLEap is used for preparing and manipulating molecular systems\n",
    "\n",
    "$ tleap"
   ]
  },
  {
   "cell_type": "code",
   "execution_count": null,
   "metadata": {},
   "outputs": [],
   "source": [
    "# Load the FF19SB force field\n",
    "# Generate a leap.log file\n",
    "\n",
    "$ source leaprc.protein.ff19SB"
   ]
  },
  {
   "cell_type": "code",
   "execution_count": null,
   "metadata": {},
   "outputs": [],
   "source": [
    "# Build alanine dipeptide\n",
    "# Creates a dipeptide named diala with the sequence ACE-ALA-NME\n",
    "\n",
    "$ diala = sequence { ACE ALA NME }"
   ]
  },
  {
   "cell_type": "code",
   "execution_count": null,
   "metadata": {},
   "outputs": [],
   "source": [
    "# Load the parameters for the OPC (Optimized Potential for Liquid Simulations) water model\n",
    "# The leaprc.water.opc file contains the necessary parameters for using OPC water\n",
    "# The FF19SB force field gives the best performance with the OPC water model\n",
    "\n",
    "$ source leaprc.water.opc"
   ]
  },
  {
   "cell_type": "code",
   "execution_count": null,
   "metadata": {},
   "outputs": [],
   "source": [
    "# Solvates the diala dipeptide in an octahedral box of OPC water.\n",
    "# solvateoct command is used to create an octahedral box, \n",
    "# diala is the molecule to be solvated\n",
    "# OPCBOX specifies the type of water to use (in this case, OPC water)\n",
    "# 10.0 is the buffer distance in angstroms between the solute and the edge of the water box.\n",
    "\n",
    "$ solvateoct diala OPCBOX  10.0"
   ]
  },
  {
   "cell_type": "code",
   "execution_count": null,
   "metadata": {},
   "outputs": [],
   "source": [
    "# Save the Amber parm7 and rst7 input files\n",
    "# parm7 - describes parameter and topology of the molecules in the system\n",
    "# rst7 - describes the initial molecular coordinates of the system\n",
    "# mdin - describes the settings for the Amber MD engine\n",
    "\n",
    "$ saveamberparm diala parm7 rst7"
   ]
  },
  {
   "cell_type": "markdown",
   "metadata": {},
   "source": [
    "#### Part 2: Prepare Amber MD pmemd and sander input files"
   ]
  },
  {
   "cell_type": "code",
   "execution_count": null,
   "metadata": {},
   "outputs": [],
   "source": [
    "# Create the file 01_Min.in that includes the following settings for minimization\n",
    "    \"\"\"\n",
    "Minimize\n",
    " &cntrl\n",
    "  imin=1,\n",
    "  ntx=1,\n",
    "  irest=0,\n",
    "  maxcyc=2000,\n",
    "  ncyc=1000,\n",
    "  ntpr=100,\n",
    "  ntwx=0,\n",
    "  cut=8.0,\n",
    " /\n",
    "    \"\"\""
   ]
  },
  {
   "cell_type": "code",
   "execution_count": null,
   "metadata": {},
   "outputs": [],
   "source": [
    "# Create the file 02_Heat.in that includes the following settings for heating\n",
    "    \"\"\"\n",
    "Heat\n",
    " &cntrl\n",
    "  imin=0,\n",
    "  ntx=1,\n",
    "  irest=0,\n",
    "  nstlim=10000,\n",
    "  dt=0.002,\n",
    "  ntf=2,\n",
    "  ntc=2,\n",
    "  tempi=0.0,\n",
    "  temp0=300.0,\n",
    "  ntpr=100,\n",
    "  ntwx=100,\n",
    "  cut=8.0,\n",
    "  ntb=1,\n",
    "  ntp=0,\n",
    "  ntt=3,\n",
    "  gamma_ln=2.0,\n",
    "  nmropt=1,\n",
    "  ig=-1,\n",
    " /\n",
    "&wt type='TEMP0', istep1=0, istep2=9000, value1=0.0, value2=300.0 /\n",
    "&wt type='TEMP0', istep1=9001, istep2=10000, value1=300.0, value2=300.0 /\n",
    "&wt type='END' /\n",
    "    \"\"\""
   ]
  },
  {
   "cell_type": "code",
   "execution_count": null,
   "metadata": {},
   "outputs": [],
   "source": [
    "# Create the file 03_Prod.in with the settings for production MD\n",
    "    \"\"\"\n",
    "Production\n",
    " &cntrl\n",
    "  imin=0,\n",
    "  ntx=5,\n",
    "  irest=1,\n",
    "  nstlim=5000000,\n",
    "  dt=0.002,\n",
    "  ntf=2,\n",
    "  ntc=2,\n",
    "  temp0=300.0,\n",
    "  ntpr=100,\n",
    "  ntwx=100,\n",
    "  cut=8.0,\n",
    "  ntb=2,\n",
    "  ntp=1,\n",
    "  ntt=3,\n",
    "  barostat=1,\n",
    "  gamma_ln=2.0,\n",
    "  ig=-1,\n",
    " /\n",
    "    \"\"\""
   ]
  },
  {
   "cell_type": "markdown",
   "metadata": {},
   "source": [
    "### Part 3: Run Amber MD pmemd"
   ]
  },
  {
   "cell_type": "code",
   "execution_count": null,
   "metadata": {},
   "outputs": [],
   "source": [
    "# Check the location of the AMBER_HOME on Greene\n",
    "\n",
    "$ module show amber/openmpi/intel/22.03\n",
    "\n",
    "# setenv(\"AMBER_HOME\",\"/share/apps/amber/22.03/openmpi/intel\")"
   ]
  },
  {
   "cell_type": "code",
   "execution_count": null,
   "metadata": {},
   "outputs": [],
   "source": [
    "# Run minimization\n",
    "\n",
    "$ /share/apps/amber/22.03/openmpi/intel/bin/sander -O -i 01_Min.in -o 01_Min.out -p parm7 -c rst7 -r 01_Min.ncrst \\-inf 01_Min.mdinfo"
   ]
  },
  {
   "cell_type": "code",
   "execution_count": null,
   "metadata": {},
   "outputs": [],
   "source": [
    "# Run heating MD\n",
    "\n",
    "$ /share/apps/amber/22.03/openmpi/intel/bin/sander -O -i 02_Heat.in -o 02_Heat.out -p parm7 -c 01_Min.ncrst \\-r 02_Heat.ncrst -x 02_Heat.nc -inf 02_Heat.mdinfo"
   ]
  },
  {
   "cell_type": "code",
   "execution_count": null,
   "metadata": {},
   "outputs": [],
   "source": [
    "# Run the production MD of alanine dipeptide with pmemd\n",
    "# With the \"&\" at the end of the command, sander now runs in the background\n",
    "\n",
    "$ /share/apps/amber/22.03/openmpi/intel/bin/pmemd -O -i 03_Prod.in -o 03_Prod.out -p parm7 -c 02_Heat.ncrst \\-r 03_Prod.ncrst -x 03_Prod.nc -inf 03_Prod.info &\n",
    "\n",
    "# monitor the status of this job use the program tail to print the output file to the terminal [~ 13 hours]\n",
    "$ tail -f 03_Prod.out"
   ]
  }
 ],
 "metadata": {
  "kernelspec": {
   "display_name": "teachopencadd",
   "language": "python",
   "name": "teachopencadd"
  },
  "language_info": {
   "codemirror_mode": {
    "name": "ipython",
    "version": 3
   },
   "file_extension": ".py",
   "mimetype": "text/x-python",
   "name": "python",
   "nbconvert_exporter": "python",
   "pygments_lexer": "ipython3",
   "version": "3.11.5"
  }
 },
 "nbformat": 4,
 "nbformat_minor": 2
}
