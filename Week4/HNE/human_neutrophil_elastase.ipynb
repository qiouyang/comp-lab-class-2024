{
 "cells": [
  {
   "cell_type": "markdown",
   "metadata": {},
   "source": [
    "## HW4: Simulation of Human Neutrophil Elastase (HNE) system\n",
    "### Goal: run a series of simulations of human neutrophil elastase (HNE)"
   ]
  },
  {
   "cell_type": "code",
   "execution_count": null,
   "metadata": {},
   "outputs": [],
   "source": [
    "$ srun -c4 -t4:00:00 --mem=4000 --pty /bin/bash "
   ]
  },
  {
   "cell_type": "code",
   "execution_count": null,
   "metadata": {},
   "outputs": [],
   "source": [
    "$ module load amber/openmpi/intel/22.03\n",
    "\n",
    "# openmpi/gcc/3.1.4\n",
    "# openmpi/gcc/4.0.5\n",
    "# openmpi/intel/4.0.5\n",
    "# openmpi/intel/4.1.1\n",
    "\n",
    "# amber/openmpi/intel/20.06\n",
    "# amber/openmpi/intel/20.11                      \n",
    "# amber/openmpi/intel/22.00                     \n",
    "# amber/openmpi/intel/22.03"
   ]
  },
  {
   "cell_type": "code",
   "execution_count": null,
   "metadata": {},
   "outputs": [],
   "source": [
    "$ wget https://files.rcsb.org/view/2Z7F.pdb"
   ]
  },
  {
   "cell_type": "markdown",
   "metadata": {},
   "source": [
    "#### Obtain and parse the PDB file"
   ]
  },
  {
   "cell_type": "code",
   "execution_count": null,
   "metadata": {},
   "outputs": [],
   "source": [
    "# 2Z7F.pdb contains chain E, chain I, and two ligands(NAG and FUC)\n",
    "# Keep only chain E, extract chain I from the original PDB fil\n",
    "# The -v option inverts the match, so egrep -v will exclude chain \"I\"\n",
    "\n",
    "$ grep \"ATOM \" 2Z7F.pdb | egrep -v \" I \" > 2z7f_chainE.pdb"
   ]
  },
  {
   "cell_type": "code",
   "execution_count": null,
   "metadata": {},
   "outputs": [],
   "source": [
    "$ grep \"HOH \" 2Z7F.pdb | egrep -v \" I \" > 2z7f_chainE_XWAT.pdb"
   ]
  },
  {
   "cell_type": "markdown",
   "metadata": {},
   "source": [
    "#### Protonate the protein"
   ]
  },
  {
   "cell_type": "code",
   "execution_count": null,
   "metadata": {},
   "outputs": [],
   "source": [
    "# Protonate the protein using  PDB2PQR webserver (https://server.poissonboltzmann.org/pdb2pqr)\n",
    "# Generate the 2z7f_chainE.pqr\n",
    "\n",
    "# PARSE force field\n",
    "# AMBER naming scheme\n",
    "# PROPKA as pKa option\n",
    "# checked the settings: (1) \"Ensure that new atoms are not rebuilt too close to existing atoms\", and (2) \"Optimize the hydrogen bonding network\"."
   ]
  },
  {
   "cell_type": "markdown",
   "metadata": {},
   "source": [
    "#### Add crystal waters, disulfide bonds, solvate the system, and prepare prmtop and inpcrd files using tleap"
   ]
  },
  {
   "cell_type": "code",
   "execution_count": null,
   "metadata": {},
   "outputs": [],
   "source": [
    "$ tleap"
   ]
  },
  {
   "cell_type": "code",
   "execution_count": null,
   "metadata": {},
   "outputs": [],
   "source": [
    "# loads FF14SB the force field parameters for proteins\n",
    "\n",
    "$ source leaprc.protein.ff14SB"
   ]
  },
  {
   "cell_type": "code",
   "execution_count": null,
   "metadata": {},
   "outputs": [],
   "source": [
    "# loads the parameters for the TIP3P water model\n",
    "\n",
    "$ source leaprc.water.tip3p"
   ]
  },
  {
   "cell_type": "code",
   "execution_count": null,
   "metadata": {},
   "outputs": [],
   "source": [
    "# loads the GAFF force field for small organic molecules \n",
    "\n",
    "$ source leaprc.gaff2"
   ]
  },
  {
   "cell_type": "code",
   "execution_count": null,
   "metadata": {},
   "outputs": [],
   "source": [
    "# Load the protein\n",
    "\n",
    "$ prot = loadpdb 2z7f_chainE.pqr\n",
    "\n",
    "# Loading PDB file: ./2z7f_chainE.pqr\n",
    "# total atoms in file: 3292"
   ]
  },
  {
   "cell_type": "code",
   "execution_count": null,
   "metadata": {},
   "outputs": [],
   "source": [
    "# Renumber the protein residue starting from 1 instead of 16 in .pqr file\n",
    "# Make the numbering continuously instead of missing some residues\n",
    "# For the uncertain residue, keep the first one by defualt \n",
    "# Generate 2z7f_chainE_renum.pdb file\n",
    "\n",
    "$ savepdb prot 2z7f_chainE_renum.pdb\n",
    "\n",
    "# Warning:  Converting N-terminal residue name to PDB format: NILE -> ILE\n",
    "# Warning:  Converting C-terminal residue name to PDB format: CGLN -> GLN"
   ]
  },
  {
   "cell_type": "code",
   "execution_count": null,
   "metadata": {},
   "outputs": [],
   "source": [
    "$ quit\n",
    "\n",
    "# Exiting LEaP: Errors = 0; Warnings = 2; Notes = 0."
   ]
  },
  {
   "cell_type": "markdown",
   "metadata": {},
   "source": [
    "### Bond the disulfide in tleap"
   ]
  },
  {
   "cell_type": "code",
   "execution_count": null,
   "metadata": {},
   "outputs": [],
   "source": [
    "$ tleap"
   ]
  },
  {
   "cell_type": "code",
   "execution_count": null,
   "metadata": {},
   "outputs": [],
   "source": [
    "$ source leaprc.protein.ff14SB"
   ]
  },
  {
   "cell_type": "code",
   "execution_count": null,
   "metadata": {},
   "outputs": [],
   "source": [
    "$ source leaprc.gaff2"
   ]
  },
  {
   "cell_type": "code",
   "execution_count": null,
   "metadata": {},
   "outputs": [],
   "source": [
    "$ prot = loadpdb 2z7f_chainE_renum.pdb\n",
    "\n",
    "# Loading PDB file: ./2z7f_chainE_renum.pdb\n",
    "# total atoms in file: 3292"
   ]
  },
  {
   "cell_type": "code",
   "execution_count": null,
   "metadata": {},
   "outputs": [],
   "source": [
    "# check the bonding information of one sulfide atom for example Cys26@SG\n",
    "\n",
    "$ desc prot.26.SG\n",
    "\n",
    "# Bonded to .R<CYX 26>.A<CB 5> by a single bond."
   ]
  },
  {
   "cell_type": "code",
   "execution_count": null,
   "metadata": {},
   "outputs": [],
   "source": [
    "# bond disulfide bond\n",
    "\n",
    "$ bond prot.26.SG prot.42.SG"
   ]
  },
  {
   "cell_type": "code",
   "execution_count": null,
   "metadata": {},
   "outputs": [],
   "source": [
    "# check the bonding information again\n",
    "\n",
    "$ desc prot.26.SG\n",
    "\n",
    "# Bonded to .R<CYX 26>.A<CB 5> by a single bond.\n",
    "# Bonded to .R<CYX 42>.A<SG 8> by a single bond."
   ]
  },
  {
   "cell_type": "code",
   "execution_count": null,
   "metadata": {},
   "outputs": [],
   "source": [
    "# Bond other disulfide bonds\n",
    "\n",
    "$ bond prot.169.SG prot.194.SG\n",
    "$ bond prot.152.SG prot.158.SG\n",
    "$ bond prot.122.SG prot.179.SG\n"
   ]
  },
  {
   "cell_type": "code",
   "execution_count": null,
   "metadata": {},
   "outputs": [],
   "source": [
    "$ xwat = loadpdb 2z7f_chainE_XWAT.pdb\n",
    "\n",
    "# Loading PDB file: ./2z7f_chainE_XWAT.pdb\n",
    "#   total atoms in file: 196\n",
    "#   Leap added 392 missing atoms according to residue templates:\n",
    "#        392 H / lone pairs"
   ]
  },
  {
   "cell_type": "code",
   "execution_count": null,
   "metadata": {},
   "outputs": [],
   "source": [
    "# combine the protein and waters\n",
    "\n",
    "$ complex = combine {prot xwat}"
   ]
  },
  {
   "cell_type": "code",
   "execution_count": null,
   "metadata": {},
   "outputs": [],
   "source": [
    "# save amber topology and coordinate files\n",
    "\n",
    "$ saveamberparm prot HNE_noWAT.prmtop HNE_noWAT.inpcrd\n",
    "\n",
    "# Warning: The unperturbed charge of the unit (12.000000) is not zero.\n",
    "# Marking per-residue atom chain types.\n",
    "#   (Residues lacking connect0/connect1 - \n",
    "#    these don't have chain types marked:\n",
    "\n",
    "#         res     total affected\n",
    "\n",
    "#         CGLN    1\n",
    "#         NILE    1\n",
    "#   )"
   ]
  },
  {
   "cell_type": "code",
   "execution_count": null,
   "metadata": {},
   "outputs": [],
   "source": [
    "# check the charge of the complex system and we need to add ions to neutralize it\n",
    "\n",
    "$ charge complex\n",
    "\n",
    "# Total unperturbed charge:  12.000000\n",
    "# Total perturbed charge:    12.000000"
   ]
  },
  {
   "cell_type": "code",
   "execution_count": null,
   "metadata": {},
   "outputs": [],
   "source": [
    "# add Cl- ions to balance out the charges\n",
    "\n",
    "$ addions2 complex Cl- 0\n",
    "\n",
    "# 12 Cl- ions required to neutralize.\n",
    "# Adding 12 counter ions to \"complex\" using 1A grid\n",
    "# Grid extends from solute vdw + 2.51  to  8.51\n",
    "# Resolution:      1.00 Angstrom.\n",
    "# Calculating grid charges\n",
    "# Placed Cl- in complex at (38.01, 116.51, 18.40).\n",
    "# Placed Cl- in complex at (29.01, 117.51, 24.40).\n",
    "# Placed Cl- in complex at (16.01, 112.51, -6.60).\n",
    "# Placed Cl- in complex at (37.01, 121.51, 10.40).\n",
    "# Placed Cl- in complex at (32.01, 93.51, 32.40).\n",
    "# Placed Cl- in complex at (28.01, 118.51, 15.40).\n",
    "# Placed Cl- in complex at (33.01, 123.51, 0.40).\n",
    "# Placed Cl- in complex at (36.01, 110.51, 27.40).\n",
    "# Placed Cl- in complex at (41.01, 88.51, 18.40).\n",
    "# Placed Cl- in complex at (15.01, 110.51, 21.40).\n",
    "# Placed Cl- in complex at (25.01, 77.51, 19.40).\n",
    "# Placed Cl- in complex at (24.01, 113.51, 29.40)."
   ]
  },
  {
   "cell_type": "code",
   "execution_count": null,
   "metadata": {},
   "outputs": [],
   "source": [
    "# solvate the protein in a TIP3P water box, and we want at least 12 A between our protein \n",
    "# surface and the edge of the water box\n",
    "\n",
    "$ solvatebox complex TIP3PBOX 12.0 \n",
    "\n",
    "#   Solute vdw bounding box:              41.355 51.026 54.159\n",
    "#   Total bounding box for atom centers:  65.355 75.026 78.159\n",
    "#   Solvent unit box:                     18.774 18.774 18.774\n",
    "#   Total vdw box size:                   68.705 77.891 81.106 angstroms.\n",
    "#   Volume: 434035.967 A^3 \n",
    "#   Total mass 213271.064 amu,  Density 0.816 g/cc\n",
    "#   Added 10325 residues."
   ]
  },
  {
   "cell_type": "code",
   "execution_count": null,
   "metadata": {},
   "outputs": [],
   "source": [
    "# check the structures and it will show some information or warning or errors.\n",
    "\n",
    "$ check complex\n",
    "\n",
    "# check:  Warnings: 37\n",
    "# Unit is OK."
   ]
  },
  {
   "cell_type": "code",
   "execution_count": null,
   "metadata": {},
   "outputs": [],
   "source": [
    "# save solvated complex\n",
    "\n",
    "$ saveamberparm complex HNE_sol.prmtop HNE_sol.inpcrd"
   ]
  },
  {
   "cell_type": "code",
   "execution_count": null,
   "metadata": {},
   "outputs": [],
   "source": [
    "# save a pdb of the solvated HNC system\n",
    "\n",
    "$ savepdb complex HNC_sol0.pdb\n",
    "\n",
    "# Exiting LEaP: Errors = 0; Warnings = 40; Notes = 1."
   ]
  },
  {
   "cell_type": "markdown",
   "metadata": {},
   "source": [
    "### Minimization of the system"
   ]
  },
  {
   "cell_type": "markdown",
   "metadata": {},
   "source": [
    "$ srun --tasks-per-node=4 --time=2:00:00 --mem=4GB --pty /bin/bash"
   ]
  },
  {
   "cell_type": "code",
   "execution_count": null,
   "metadata": {},
   "outputs": [],
   "source": [
    "# Create min_sol.in file for minimization of waters\n",
    "    \"\"\"\n",
    "Minimization of water molecules\n",
    "&cntrl\n",
    "imin = 1,\n",
    "maxcyc=5000,\n",
    "ncyc=3000,\n",
    "ntb=1,\n",
    "cut=10,\n",
    "ntpr=5,\n",
    "ntr=1, restraintmask=':1-218',\n",
    "restraint_wt=2.0,\n",
    "/\n",
    "    \"\"\""
   ]
  },
  {
   "cell_type": "code",
   "execution_count": null,
   "metadata": {},
   "outputs": [],
   "source": [
    "# Create min_all.in file minimization of the whole system\n",
    "    \"\"\"\n",
    "Minimization of the whole system\n",
    "&cntrl\n",
    "imin = 1,\n",
    "maxcyc=10000, ncyc=7000,\n",
    "ntb=1, ntr=0, cut=10, ntpr=5,\n",
    "/\n",
    "    \"\"\""
   ]
  },
  {
   "cell_type": "code",
   "execution_count": null,
   "metadata": {},
   "outputs": [],
   "source": [
    "$ module swap amber/openmpi/intel/22.03 amber/openmpi/intel/22.00"
   ]
  },
  {
   "cell_type": "code",
   "execution_count": null,
   "metadata": {},
   "outputs": [],
   "source": [
    "$ mpiexec pmemd.MPI -O -i min_sol.in -o min_sol.out -p HNE_sol.prmtop -c HNE_sol.inpcrd -r min_sol.rst -ref HNE_sol.inpcrd "
   ]
  },
  {
   "cell_type": "code",
   "execution_count": null,
   "metadata": {},
   "outputs": [],
   "source": [
    "$ mpiexec pmemd.MPI -O -i min_all.in -o min_all.out -p HNE_sol.prmtop -c min_sol.rst -r min_all.rst -ref min_sol.rst"
   ]
  },
  {
   "cell_type": "markdown",
   "metadata": {},
   "source": [
    "### Data Analysis"
   ]
  },
  {
   "cell_type": "code",
   "execution_count": 6,
   "metadata": {},
   "outputs": [
    {
     "data": {
      "image/png": "[encoded data removed]",
      "text/plain": [
       "<Figure size 640x480 with 1 Axes>"
      ]
     },
     "metadata": {},
     "output_type": "display_data"
    }
   ],
   "source": [
    "import matplotlib.pyplot as plt\n",
    "\n",
    "# Specify the file path\n",
    "file_path = \"min/minall/summary.ENERGY\"\n",
    "\n",
    "# Read data from file\n",
    "time = []\n",
    "energy = []\n",
    "with open(file_path, 'r') as file:\n",
    "    for line in file:\n",
    "        columns = line.split()\n",
    "        time.append(float(columns[0]))\n",
    "        energy.append(float(columns[1]))\n",
    "\n",
    "# Plot the graph\n",
    "plt.plot(time, energy)\n",
    "plt.xlabel('Time')\n",
    "plt.ylabel('Energy')\n",
    "plt.title('Energy vs Time')\n",
    "plt.grid(True)\n",
    "plt.show()\n",
    "\n"
   ]
  }
 ],
 "metadata": {
  "kernelspec": {
   "display_name": "handson_ml3",
   "language": "python",
   "name": "handson_ml3"
  },
  "language_info": {
   "codemirror_mode": {
    "name": "ipython",
    "version": 3
   },
   "file_extension": ".py",
   "mimetype": "text/x-python",
   "name": "python",
   "nbconvert_exporter": "python",
   "pygments_lexer": "ipython3",
   "version": "3.11.5"
  }
 },
 "nbformat": 4,
 "nbformat_minor": 2
}
