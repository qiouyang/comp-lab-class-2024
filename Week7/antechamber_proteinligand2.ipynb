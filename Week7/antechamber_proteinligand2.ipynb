{
 "cells": [
  {
   "cell_type": "markdown",
   "metadata": {},
   "source": [
    "## Week 7: Antechamber Advance Tutorial"
   ]
  },
  {
   "cell_type": "markdown",
   "metadata": {},
   "source": [
    "### Advance Tutorial 1: Setting up a DNA-Ligand System\n",
    "#### https://ambermd.org/tutorials/advanced/tutorial1/"
   ]
  },
  {
   "cell_type": "code",
   "execution_count": null,
   "metadata": {},
   "outputs": [],
   "source": [
    "# Develop charge parameters for SKE using this more advanced approach\n",
    "\n",
    "# Charge derivation scheme is a crucial component of the force field parameterization process \n",
    "# In AMBER, the method used for charge derivation is called the Restrained Electrostatic Potential (RESP) method. \n",
    "# The RESP method involves fitting the partial charges to the electrostatic potential computed at a series of points surrounding the molecule. \n",
    "# This fitting is done under certain constraints to ensure that the charges are physically reasonable and that they reproduce the correct overall molecular dipole moment. "
   ]
  },
  {
   "cell_type": "code",
   "execution_count": null,
   "metadata": {},
   "outputs": [],
   "source": [
    "# There are several options for charge fitting in AMBER (original RESP implementation):\n",
    "# 1) Antechamber: standalone ligand \n",
    "# 2) R.E.D.: complex systems because it is more reproducibility and is designed to automate multiple orientation fits "
   ]
  },
  {
   "cell_type": "markdown",
   "metadata": {},
   "source": [
    "### Part 1: Derive charges for the dye and linker"
   ]
  },
  {
   "cell_type": "markdown",
   "metadata": {},
   "source": [
    "#### 1.1 Charge Derivation for the Dye"
   ]
  },
  {
   "cell_type": "code",
   "execution_count": null,
   "metadata": {},
   "outputs": [],
   "source": [
    "# The charge fit consists of 3 stages:\n",
    "# Stage 1: optimize the geometry\n",
    "# Stage 2: generate an electrostatic potential\n",
    "# Stage 3: run the RESP procedure"
   ]
  },
  {
   "cell_type": "markdown",
   "metadata": {},
   "source": [
    "##### 1.1.1 Stage 1: optimize the geometry (optimize the capped dye)"
   ]
  },
  {
   "cell_type": "code",
   "execution_count": null,
   "metadata": {},
   "outputs": [],
   "source": [
    "# Use B3LYP/6-31G* to optimize the geometry\n",
    "# run optimization in a Gaussian QM package\n",
    "# The dye has two minima that are in different conformations but equivalent in energy.\n",
    "# We call these two conformations floF and floB"
   ]
  },
  {
   "cell_type": "code",
   "execution_count": null,
   "metadata": {},
   "outputs": [],
   "source": [
    "$ module load amber/openmpi/intel/22.03"
   ]
  },
  {
   "cell_type": "code",
   "execution_count": null,
   "metadata": {},
   "outputs": [],
   "source": [
    "# Get floB pre-prepared output files\n",
    "\n",
    "$ wget https://ambermd.org/tutorials/advanced/tutorial1/files/floB_opt.gout"
   ]
  },
  {
   "cell_type": "code",
   "execution_count": null,
   "metadata": {},
   "outputs": [],
   "source": [
    "# Get floF pre-prepared output files\n",
    "\n",
    "$ wget https://ambermd.org/tutorials/advanced/tutorial1/files/floF_opt.gout"
   ]
  },
  {
   "cell_type": "code",
   "execution_count": null,
   "metadata": {},
   "outputs": [],
   "source": [
    "# generate a pdb of the optimized floB structure for use later in the leap unit building\n",
    "# Get floB pre-prepared output files\n",
    "\n",
    "$ wget https://ambermd.org/tutorials/advanced/tutorial1/files/floB_opt.pdb"
   ]
  },
  {
   "cell_type": "markdown",
   "metadata": {},
   "source": [
    "##### 1.1.2 Stage 2: Calculate Electrostatic Potential"
   ]
  },
  {
   "cell_type": "code",
   "execution_count": null,
   "metadata": {},
   "outputs": [],
   "source": [
    "# calculate an ESP for each of the two optimized geometries that can be read by the RESP program"
   ]
  },
  {
   "cell_type": "code",
   "execution_count": null,
   "metadata": {},
   "outputs": [],
   "source": [
    "# Get floB pre-prepared output files\n",
    "\n",
    "$ wget https://ambermd.org/tutorials/advanced/tutorial1/files/floB_hf.gout"
   ]
  },
  {
   "cell_type": "code",
   "execution_count": null,
   "metadata": {},
   "outputs": [],
   "source": [
    "# Get floF pre-prepared output files\n",
    "\n",
    "$ wget https://ambermd.org/tutorials/advanced/tutorial1/files/floF_hf.gout"
   ]
  },
  {
   "cell_type": "markdown",
   "metadata": {},
   "source": [
    "##### 1.1.3 Convert the Gaussian ESP data into the RESP format"
   ]
  },
  {
   "cell_type": "code",
   "execution_count": null,
   "metadata": {},
   "outputs": [],
   "source": [
    "# Make a esp.sh file\n",
    "# xlf command not found\n",
    "# Change xlf to gfortran\n",
    "\n",
    "    \"\"\"\n",
    "#!/bin/bash\n",
    "gfortran ./readit.f\n",
    "grep \"Atomic Center \" $1 > a\n",
    "grep \"ESP Fit\" $1 > b\n",
    "grep \"Fit    \" $1 > c\n",
    "./a.out \n",
    "rm -f a b c a.out readit.o\n",
    "    \"\"\""
   ]
  },
  {
   "cell_type": "code",
   "execution_count": null,
   "metadata": {},
   "outputs": [],
   "source": [
    "# How many atoms: atoms = 35\n",
    "# How many ESP fit centers: ESP Fit centers = 79216\n",
    "\n",
    "$ ./esp.sh floB_hf.gout\n",
    "\n",
    "# enter natom,nesp:\n",
    "# 35, 79216\n",
    "# This should give an esp.dat file which we will rename ln5_esp.dat"
   ]
  },
  {
   "cell_type": "markdown",
   "metadata": {},
   "source": [
    "##### 1.1.4 Generate the input files for RESP"
   ]
  },
  {
   "cell_type": "code",
   "execution_count": null,
   "metadata": {},
   "outputs": [],
   "source": [
    "# generate the input files required for the RESP fit\n",
    "# Make a floBF-resp.in file\n",
    "\n",
    "$ wget https://ambermd.org/tutorials/advanced/tutorial1/files/floBF-resp.in\n",
    "\n",
    "    \"\"\"\n",
    "floBF-resp run #1\n",
    " &cntrl\n",
    " nmol=2,\n",
    " ihfree=1,\n",
    " qwt=0.0005,\n",
    " iqopt=2,\n",
    " /\n",
    "    \"\"\"\n",
    "    \n",
    "# nmol=2 tells RESP that this is a multiconformational fit over two 'molecules' (two conformations of the dye).\n",
    "# ihfree=1 tells RESP we only want the weak restraint on the heavy atoms.\n",
    "# qwt=0.0005 Strength of the restraint in A.U.\n",
    "# iqopt=2 tells RESP to read in initial charges from a qin file in the form of Lagrange constraints. This is so we can fix the NME cap charges."
   ]
  },
  {
   "cell_type": "code",
   "execution_count": null,
   "metadata": {},
   "outputs": [],
   "source": [
    "$ cat floB_esp.dat floF_esp.dat > floBF_esp.dat"
   ]
  },
  {
   "cell_type": "code",
   "execution_count": null,
   "metadata": {},
   "outputs": [],
   "source": [
    "# Make a qin file to provide the charges for the cap\n",
    "\n",
    "$ wget https://ambermd.org/tutorials/advanced/tutorial1/files/floBF-resp.qin"
   ]
  },
  {
   "cell_type": "code",
   "execution_count": null,
   "metadata": {},
   "outputs": [],
   "source": [
    "$ $AMBERHOME/bin/resp -O -i floBF-resp.in -o floBF-resp.out -p floBF-resp.pch -t floBF-resp.chg -q floBF-resp.qin -e floBF_esp.dat\n",
    "\n",
    "# -O: Overwrite output files if they exist.\n",
    "# -i floBF-resp.in: Input file for the RESP calculation.\n",
    "# -o floBF-resp.out: Output file for the RESP calculation results.\n",
    "# -p floBF-resp.pch: File to write the derived partial charges.\n",
    "# -t floBF-resp.chg: File containing initial charges or charge constraints.\n",
    "# -q floBF-resp.qin: File containing additional charge constraints (optional).\n",
    "# -e floBF_esp.dat: File containing electrostatic potential data."
   ]
  },
  {
   "cell_type": "code",
   "execution_count": null,
   "metadata": {},
   "outputs": [],
   "source": [
    "# [qo210@cs441 Tutorial3]$ env | grep AMBER\n",
    "# AMBER_LIB=/share/apps/amber/22.00/openmpi/intel/lib\n",
    "# AMBER_INC=/share/apps/amber/22.00/openmpi/intel/include\n",
    "# AMBER_ROOT=/share/apps/amber/22.00/openmpi/intel\n",
    "# AMBERHOME=/share/apps/amber/22.00/openmpi/intel\n",
    "# LMOD_FAMILY_AMBER=amber/openmpi/intel\n",
    "# LMOD_FAMILY_AMBER_VERSION=22.00\n",
    "# AMBER_HOME=/share/apps/amber/22.00/openmpi/intel"
   ]
  }
 ],
 "metadata": {
  "language_info": {
   "name": "python"
  }
 },
 "nbformat": 4,
 "nbformat_minor": 2
}
